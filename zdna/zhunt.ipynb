{
 "cells": [
  {
   "cell_type": "code",
   "id": "initial_id",
   "metadata": {
    "collapsed": true
   },
   "source": [
    "!gcc zhunt3-alan.c -lm -o zhunt3\n",
    "!chmod a+x zhunt3"
   ],
   "outputs": [],
   "execution_count": null
  },
  {
   "metadata": {},
   "cell_type": "code",
   "source": "!./zhunt3 --help",
   "id": "fe7605724b8b4ef7",
   "outputs": [],
   "execution_count": null
  },
  {
   "metadata": {},
   "cell_type": "code",
   "source": [
    "file = \"../ncbi_dataset/data/GCF_000787575.1/GCF_000787575.1_Asub_2.0_genomic.fna\"\n",
    "from Bio import SeqIO\n",
    "\n",
    "# divide fna file into separate file scaffold wise\n",
    "# create new directory for them\n",
    "import os\n",
    "\n",
    "os.makedirs(\"scaffolds\", exist_ok=True)\n",
    "\n",
    "for record in SeqIO.parse(file, \"fasta\"):\n",
    "    with open(f\"scaffolds/{record.id}.fna\", \"w\") as f:\n",
    "        SeqIO.write(record, f, \"fasta\")\n"
   ],
   "id": "f65685d37c60038f",
   "outputs": [],
   "execution_count": null
  },
  {
   "metadata": {},
   "cell_type": "code",
   "source": [
    "# run zhunt3 on all files in scaffolds directory in parallel (8 threads)\n",
    "import os\n",
    "import subprocess\n",
    "import concurrent.futures\n",
    "\n",
    "def run_zhunt3(file):\n",
    "    subprocess.run([\"./zhunt3\", \"12\", \"8\", \"12\", f\"scaffolds/{file}\"])\n",
    "\n",
    "files = os.listdir(\"scaffolds\")\n",
    "\n",
    "# Create a ThreadPoolExecutor\n",
    "with concurrent.futures.ThreadPoolExecutor(max_workers=8) as executor:\n",
    "    # Use the executor to map the function to the files\n",
    "    executor.map(run_zhunt3, files)"
   ],
   "id": "86bdf421607d9f8b",
   "outputs": [],
   "execution_count": null
  },
  {
   "metadata": {},
   "cell_type": "code",
   "source": [
    "import pandas as pd\n",
    "def combine_overlapping_regions(zhunt_filtered) -> pd.DataFrame:\n",
    "    zhunt_filtered = zhunt_filtered.sort_values(\"Start\")\n",
    "    zhunt_filtered = zhunt_filtered.reset_index(drop=True)\n",
    "    i = 0\n",
    "    while i < len(zhunt_filtered) - 1:\n",
    "        if zhunt_filtered.loc[i, \"End\"] >= zhunt_filtered.loc[i+1, \"Start\"]:\n",
    "            zhunt_filtered.loc[i, \"End\"] = max(zhunt_filtered.loc[i, \"End\"], zhunt_filtered.loc[i+1, \"End\"])\n",
    "            zhunt_filtered = zhunt_filtered.drop(i+1)\n",
    "            zhunt_filtered = zhunt_filtered.reset_index(drop=True)\n",
    "        else:\n",
    "            i += 1\n",
    "    return zhunt_filtered"
   ],
   "id": "9a047c31bd93ffd8",
   "outputs": [],
   "execution_count": null
  },
  {
   "metadata": {},
   "cell_type": "code",
   "source": [
    "# combine all the output files into one bed file with columns as scaffold, start, end, score\n",
    "# output files have the same name as input files with .Z-SCORE extension\n",
    "# \n",
    "\n",
    "import pandas as pd\n",
    "\n",
    "\n",
    "# all_files = os.listdir(\"scaffolds\")\n",
    "# output_files = [file for file in all_files if file.endswith(\".Z-SCORE\")]\n",
    "\n",
    "final = pd.DataFrame(columns=[\"Scaffold\",\"Start\",\"End\",\"Score\"])\n",
    "\n",
    "for record in SeqIO.parse(file, \"fasta\"):\n",
    "    scaffold = record.id\n",
    "    output_file_name = f\"scaffolds/{scaffold}.fna.Z-SCORE\"\n",
    "    zhunt = pd.read_csv(output_file_name, skiprows=1, names=[\"Start\",\"End\",\"1\",\"2\",\"3\",\"Score\",\"Seq\",\"4\"], delim_whitespace=True)\n",
    "    zhunt[\"Scaffold\"] = scaffold\n",
    "    zhunt = zhunt[[\"Scaffold\",\"Start\",\"End\",\"Score\"]]\n",
    "    # filter by score\n",
    "    zhunt = zhunt[zhunt[\"Score\"] > 1000]\n",
    "    # combine regions if they overlap\n",
    "    zhunt = combine_overlapping_regions(zhunt)\n",
    "    \n",
    "    final = pd.concat([final, zhunt])"
   ],
   "id": "1ba0107b2c5fdf94",
   "outputs": [],
   "execution_count": null
  },
  {
   "metadata": {},
   "cell_type": "code",
   "source": "final.head(10)",
   "id": "a461c18e951fc53c",
   "outputs": [],
   "execution_count": null
  },
  {
   "metadata": {},
   "cell_type": "code",
   "source": "len(final)",
   "id": "a20613ac30a79438",
   "outputs": [],
   "execution_count": null
  },
  {
   "metadata": {},
   "cell_type": "code",
   "source": [
    "# save the final dataframe to a bed file\n",
    "final.to_csv(\"zhunt.bed\", sep=\"\\t\", index=False, header=False)"
   ],
   "id": "7c7f34149c315a49",
   "outputs": [],
   "execution_count": null
  },
  {
   "metadata": {
    "jupyter": {
     "is_executing": true
    }
   },
   "cell_type": "code",
   "source": "# !./zhunt3 12 8 12 \"../ncbi_dataset/data/GCF_000787575.1/GCF_000787575.1_Asub_2.0_genomic.fna\"",
   "id": "634313753f880adc",
   "outputs": [],
   "execution_count": null
  },
  {
   "metadata": {},
   "cell_type": "code",
   "source": "",
   "id": "b0af5c60c7a90001",
   "outputs": [],
   "execution_count": null
  }
 ],
 "metadata": {
  "kernelspec": {
   "display_name": "Python 3",
   "language": "python",
   "name": "python3"
  },
  "language_info": {
   "codemirror_mode": {
    "name": "ipython",
    "version": 2
   },
   "file_extension": ".py",
   "mimetype": "text/x-python",
   "name": "python",
   "nbconvert_exporter": "python",
   "pygments_lexer": "ipython2",
   "version": "2.7.6"
  }
 },
 "nbformat": 4,
 "nbformat_minor": 5
}
