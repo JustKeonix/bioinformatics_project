{
 "cells": [
  {
   "metadata": {},
   "cell_type": "code",
   "source": [
    "import re\n",
    "import pandas as pd\n",
    "from tqdm import tqdm"
   ],
   "id": "aef884b53d8d439e",
   "outputs": [],
   "execution_count": null
  },
  {
   "metadata": {},
   "cell_type": "code",
   "source": [
    "def parse_zdna_file(file_path):\n",
    "    with open(file_path, 'r') as file:\n",
    "        lines = file.readlines()\n",
    "    \n",
    "    zdna_list = []\n",
    "    current_scaffold = None\n",
    "\n",
    "    for line in lines:\n",
    "        line = line.strip()\n",
    "        if line.startswith('NW_') or line.startswith('GCF_'):\n",
    "            current_scaffold = line\n",
    "        elif line and current_scaffold:\n",
    "            try:\n",
    "                start, end = map(int, line.split())\n",
    "                zdna_list.append((current_scaffold, (start, end)))\n",
    "            except ValueError:\n",
    "                continue  # skip lines that do not have valid start and end positions\n",
    "    \n",
    "    return zdna_list"
   ],
   "id": "90a32143c0ab1bd2",
   "outputs": [],
   "execution_count": null
  },
  {
   "metadata": {},
   "cell_type": "code",
   "source": [
    "def parse_gff(file_path):\n",
    "    # Read the GFF file into a pandas DataFrame\n",
    "    gff_df = pd.read_csv(file_path, sep='\\t', comment='#', header=None,\n",
    "                         names=['seqid', 'source', 'type', 'start', 'end', 'score', 'strand', 'phase', 'attributes'])\n",
    "    return gff_df"
   ],
   "id": "a693e50e88503dc0",
   "outputs": [],
   "execution_count": null
  },
  {
   "metadata": {},
   "cell_type": "code",
   "source": [
    "def categorize_zdna(zdna_list, gff_df):\n",
    "    zdna_counts = {\n",
    "        'exon': 0,\n",
    "        'intron': 0,\n",
    "        'promoter': 0,\n",
    "        'downstream': 0,\n",
    "        'intergenic': 0\n",
    "    }\n",
    "\n",
    "    for scaffold, (start, end) in zdna_list:\n",
    "        # Check if ZDNA is in exon\n",
    "        exons = gff_df[(gff_df['seqid'] == scaffold) & (gff_df['type'] == 'exon') & (gff_df['strand'] == '+')]\n",
    "        if any((exons['start'] <= start) & (exons['end'] >= end)):\n",
    "            zdna_counts['exon'] += 1\n",
    "            continue\n",
    "\n",
    "        # Check if ZDNA is in intron\n",
    "        genes = gff_df[(gff_df['seqid'] == scaffold) & (gff_df['type'] == 'gene') & (gff_df['strand'] == '+')]\n",
    "        if any((genes['start'] <= start) & (genes['end'] >= end)):\n",
    "            zdna_counts['intron'] += 1\n",
    "            continue\n",
    "        \n",
    "        # Check if ZDNA is in promoter region\n",
    "        if any((genes['start'] - 1000 <= start) & (genes['start'] >= start)):\n",
    "            zdna_counts['promoter'] += 1\n",
    "            continue\n",
    "\n",
    "        # Check if ZDNA is in downstream region\n",
    "        if any((genes['end'] <= end) & (genes['end'] + 200 >= end)):\n",
    "            zdna_counts['downstream'] += 1\n",
    "            continue\n",
    "\n",
    "        # If not in any other category, it's intergenic\n",
    "        zdna_counts['intergenic'] += 1\n",
    "    \n",
    "    return zdna_counts"
   ],
   "id": "146686382d90f967",
   "outputs": [],
   "execution_count": null
  },
  {
   "metadata": {},
   "cell_type": "code",
   "source": [
    "def categorize_zdna_minus_strand(zdna_list, gff_df):\n",
    "    zdna_counts = {\n",
    "        'exon': 0,\n",
    "        'intron': 0,\n",
    "        'promoter': 0,\n",
    "        'downstream': 0,\n",
    "        'intergenic': 0\n",
    "    }\n",
    "\n",
    "    for scaffold, (start, end) in zdna_list:\n",
    "        # Check if ZDNA is in exon\n",
    "        exons = gff_df[(gff_df['seqid'] == scaffold) & (gff_df['type'] == 'exon') & (gff_df['strand'] == '-')]\n",
    "        if any((exons['start'] <= start) & (exons['end'] >= end)):\n",
    "            zdna_counts['exon'] += 1\n",
    "            continue\n",
    "\n",
    "        # Check if ZDNA is in intron\n",
    "        genes = gff_df[(gff_df['seqid'] == scaffold) & (gff_df['type'] == 'gene') & (gff_df['strand'] == '-')]\n",
    "        if any((genes['start'] <= start) & (genes['end'] >= end)):\n",
    "            zdna_counts['intron'] += 1\n",
    "            continue\n",
    "        \n",
    "        # Check if ZDNA is in promoter region\n",
    "        if any((genes['start'] - 1000 <= start) & (genes['start'] >= start)):\n",
    "            zdna_counts['promoter'] += 1\n",
    "            continue\n",
    "\n",
    "        # Check if ZDNA is in downstream region\n",
    "        if any((genes['end'] <= end) & (genes['end'] + 200 >= end)):\n",
    "            zdna_counts['downstream'] += 1\n",
    "            continue\n",
    "\n",
    "        # If not in any other category, it's intergenic\n",
    "        zdna_counts['intergenic'] += 1\n",
    "    \n",
    "    return zdna_counts"
   ],
   "id": "5f2d7d8d61c42cec",
   "outputs": [],
   "execution_count": null
  },
  {
   "metadata": {},
   "cell_type": "code",
   "source": [
    "zdna_file_path = 'text_predictions.txt'\n",
    "gff_file_path  = '../ncbi_dataset/data/GCF_000787575.1/genomic.gff'"
   ],
   "id": "278720842e5f94d2",
   "outputs": [],
   "execution_count": null
  },
  {
   "metadata": {},
   "cell_type": "code",
   "source": "gff_df = parse_gff(gff_file_path)",
   "id": "7ea3b380fd9ca1d4",
   "outputs": [],
   "execution_count": null
  },
  {
   "metadata": {},
   "cell_type": "code",
   "source": "gff_df[(gff_df['seqid'] == \"NW_012236532.1\") & (gff_df['type'] == 'exon') & (gff_df['strand'] == '+')]",
   "id": "5695195c955fd3fb",
   "outputs": [],
   "execution_count": null
  },
  {
   "metadata": {},
   "cell_type": "code",
   "source": "zdna_list = parse_zdna_file(zdna_file_path)",
   "id": "7a860c488ff926a6",
   "outputs": [],
   "execution_count": null
  },
  {
   "metadata": {},
   "cell_type": "code",
   "source": [
    "zdna_counts = categorize_zdna(zdna_list, gff_df)\n",
    "print(zdna_counts)"
   ],
   "id": "33d5547b7e018fd7",
   "outputs": [],
   "execution_count": null
  },
  {
   "metadata": {},
   "cell_type": "code",
   "source": "len(zdna_list)",
   "id": "8006fdbe8e01f461",
   "outputs": [],
   "execution_count": null
  },
  {
   "metadata": {},
   "cell_type": "markdown",
   "source": "### Count using zhunt data",
   "id": "f8f7907c9b536dca"
  },
  {
   "metadata": {},
   "cell_type": "code",
   "source": [
    "zhunt=pd.read_csv(\"zhunt.bed\", sep=\"\\t\", names=['Scaffold', 'Start', 'End', 'Score'])\n",
    "len(zhunt)"
   ],
   "id": "2a51c6b612b93c5d",
   "outputs": [],
   "execution_count": null
  },
  {
   "metadata": {},
   "cell_type": "code",
   "source": "zhunt",
   "id": "834daaae669f7366",
   "outputs": [],
   "execution_count": null
  },
  {
   "metadata": {},
   "cell_type": "code",
   "source": [
    "# convert to list of tuples\n",
    "zhunt_zdna_regions = [(scaffold, (start, end)) for scaffold, start, end, _ in zhunt.values]\n",
    "zdna_counts = categorize_zdna(zhunt_zdna_regions, gff_df)"
   ],
   "id": "a0c2dac4ae67e8e0",
   "outputs": [],
   "execution_count": null
  },
  {
   "metadata": {},
   "cell_type": "code",
   "source": "print(zdna_counts)",
   "id": "b4ea8281b530a0de",
   "outputs": [],
   "execution_count": null
  },
  {
   "metadata": {},
   "cell_type": "code",
   "source": [
    "# count quadruplexes\n",
    "import re\n",
    "pattern = \"(G{3,5}[ATGC]{1,7}){3,}G{3,5}\"\n",
    "pattern_C=\"(C{3,5}[ATGC]{1,7}){3,}C{3,5}\""
   ],
   "id": "8a2c1f4ec30a1a1f",
   "outputs": [],
   "execution_count": null
  },
  {
   "metadata": {},
   "cell_type": "code",
   "source": [
    "file = \"../ncbi_dataset/data/GCF_000787575.1/GCF_000787575.1_Asub_2.0_genomic.fna\"\n",
    "from Bio import SeqIO\n",
    "quadruplex_counts = {\n",
    "        'exon': 0,\n",
    "        'intron': 0,\n",
    "        'promoter': 0,\n",
    "        'downstream': 0,\n",
    "        'intergenic': 0\n",
    "    }\n",
    "for record in SeqIO.parse(file, \"fasta\"):\n",
    "    sequence = str(record.seq)\n",
    "    PQS = [[m.start(), m.end()] for m in re.finditer(pattern, sequence, re.IGNORECASE)]\n",
    "    # convert to list of tuples (scaffold, (start, end))\n",
    "    PQS_regions = [(record.id, (start, end)) for start, end in PQS]\n",
    "    counts = categorize_zdna(PQS_regions, gff_df)\n",
    "    print(counts)\n",
    "    for key, value in counts.items():\n",
    "        quadruplex_counts[key] += value\n",
    "    "
   ],
   "id": "94dc0dd35f2fe166",
   "outputs": [],
   "execution_count": null
  },
  {
   "metadata": {},
   "cell_type": "code",
   "source": [
    "# count for minus strand\n",
    "for record in SeqIO.parse(file, \"fasta\"):\n",
    "    sequence = str(record.seq)\n",
    "    PQS_minus = [[m.start(), m.end()] for m in re.finditer(pattern_C, sequence, re.IGNORECASE)]\n",
    "    # convert to list of tuples (scaffold, (start, end))\n",
    "    PQS_minus_regions = [(record.id, (start, end)) for start, end in PQS_minus]\n",
    "    counts = categorize_zdna_minus_strand(PQS_minus_regions, gff_df)\n",
    "    print(counts)\n",
    "    for key, value in counts.items():\n",
    "        quadruplex_counts[key] += value"
   ],
   "id": "fdfc717fd20c5e59",
   "outputs": [],
   "execution_count": null
  },
  {
   "metadata": {},
   "cell_type": "code",
   "source": "print(quadruplex_counts)",
   "id": "acecdb07e3664ac7",
   "outputs": [],
   "execution_count": null
  }
 ],
 "metadata": {
  "kernelspec": {
   "display_name": "Python 3",
   "language": "python",
   "name": "python3"
  },
  "language_info": {
   "codemirror_mode": {
    "name": "ipython",
    "version": 2
   },
   "file_extension": ".py",
   "mimetype": "text/x-python",
   "name": "python",
   "nbconvert_exporter": "python",
   "pygments_lexer": "ipython2",
   "version": "2.7.6"
  }
 },
 "nbformat": 4,
 "nbformat_minor": 5
}
