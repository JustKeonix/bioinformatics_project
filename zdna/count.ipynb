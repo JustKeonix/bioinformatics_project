{
 "cells": [
  {
   "cell_type": "code",
   "id": "initial_id",
   "metadata": {
    "collapsed": true,
    "ExecuteTime": {
     "end_time": "2024-06-16T16:45:26.287623Z",
     "start_time": "2024-06-16T16:45:26.110881Z"
    }
   },
   "source": [
    "import re\n",
    "import pandas as pd\n",
    "from tqdm import tqdm"
   ],
   "outputs": [],
   "execution_count": 1
  },
  {
   "metadata": {
    "ExecuteTime": {
     "end_time": "2024-06-16T16:45:27.150660Z",
     "start_time": "2024-06-16T16:45:27.147556Z"
    }
   },
   "cell_type": "code",
   "source": [
    "def parse_zdna_file(file_path):\n",
    "    with open(file_path, 'r') as file:\n",
    "        lines = file.readlines()\n",
    "    \n",
    "    zdna_list = []\n",
    "    current_scaffold = None\n",
    "\n",
    "    for line in lines:\n",
    "        line = line.strip()\n",
    "        if line.startswith('NW_') or line.startswith('GCF_'):\n",
    "            current_scaffold = line\n",
    "        elif line and current_scaffold:\n",
    "            try:\n",
    "                start, end = map(int, line.split())\n",
    "                zdna_list.append((current_scaffold, (start, end)))\n",
    "            except ValueError:\n",
    "                continue  # skip lines that do not have valid start and end positions\n",
    "    \n",
    "    return zdna_list"
   ],
   "id": "f51990f5a9f38d84",
   "outputs": [],
   "execution_count": 2
  },
  {
   "metadata": {
    "ExecuteTime": {
     "end_time": "2024-06-16T16:45:30.601065Z",
     "start_time": "2024-06-16T16:45:30.598435Z"
    }
   },
   "cell_type": "code",
   "source": [
    "def parse_gff(file_path):\n",
    "    # Read the GFF file into a pandas DataFrame\n",
    "    gff_df = pd.read_csv(file_path, sep='\\t', comment='#', header=None,\n",
    "                         names=['seqid', 'source', 'type', 'start', 'end', 'score', 'strand', 'phase', 'attributes'])\n",
    "    return gff_df"
   ],
   "id": "1494fffcfd46b74e",
   "outputs": [],
   "execution_count": 3
  },
  {
   "metadata": {
    "ExecuteTime": {
     "end_time": "2024-06-16T16:46:09.802180Z",
     "start_time": "2024-06-16T16:46:09.798318Z"
    }
   },
   "cell_type": "code",
   "source": [
    "def categorize_zdna(zdna_list, gff_df):\n",
    "    zdna_counts = {\n",
    "        'exon': 0,\n",
    "        'intron': 0,\n",
    "        'promoter': 0,\n",
    "        'downstream': 0,\n",
    "        'intergenic': 0\n",
    "    }\n",
    "\n",
    "    for scaffold, (start, end) in tqdm(zdna_list, total=len(zdna_list)):\n",
    "        # Check if ZDNA is in exon\n",
    "        exons = gff_df[(gff_df['seqid'] == scaffold) & (gff_df['type'] == 'exon') & (gff_df['strand'] == '+')]\n",
    "        if any((exons['start'] <= start) & (exons['end'] >= end)):\n",
    "            zdna_counts['exon'] += 1\n",
    "            continue\n",
    "\n",
    "        # Check if ZDNA is in intron\n",
    "        genes = gff_df[(gff_df['seqid'] == scaffold) & (gff_df['type'] == 'gene') & (gff_df['strand'] == '+')]\n",
    "        if any((genes['start'] <= start) & (genes['end'] >= end)):\n",
    "            zdna_counts['intron'] += 1\n",
    "            continue\n",
    "        \n",
    "        # Check if ZDNA is in promoter region\n",
    "        if any((genes['start'] - 1000 <= start) & (genes['start'] >= start)):\n",
    "            zdna_counts['promoter'] += 1\n",
    "            continue\n",
    "\n",
    "        # Check if ZDNA is in downstream region\n",
    "        if any((genes['end'] <= end) & (genes['end'] + 200 >= end)):\n",
    "            zdna_counts['downstream'] += 1\n",
    "            continue\n",
    "\n",
    "        # If not in any other category, it's intergenic\n",
    "        zdna_counts['intergenic'] += 1\n",
    "    \n",
    "    return zdna_counts"
   ],
   "id": "ddf84d783d0956dd",
   "outputs": [],
   "execution_count": 4
  },
  {
   "metadata": {
    "ExecuteTime": {
     "end_time": "2024-06-16T16:46:12.282555Z",
     "start_time": "2024-06-16T16:46:12.280142Z"
    }
   },
   "cell_type": "code",
   "source": [
    "zdna_file_path = 'text_predictions.txt'\n",
    "gff_file_path  = '../ncbi_dataset/data/GCF_000787575.1/genomic.gff'"
   ],
   "id": "b2e14efc059fe356",
   "outputs": [],
   "execution_count": 5
  },
  {
   "metadata": {
    "ExecuteTime": {
     "end_time": "2024-06-16T16:46:13.766560Z",
     "start_time": "2024-06-16T16:46:13.555895Z"
    }
   },
   "cell_type": "code",
   "source": "gff_df = parse_gff(gff_file_path)",
   "id": "4c9d427193fb3d60",
   "outputs": [],
   "execution_count": 6
  },
  {
   "metadata": {
    "ExecuteTime": {
     "end_time": "2024-06-16T16:46:15.272973Z",
     "start_time": "2024-06-16T16:46:15.251435Z"
    }
   },
   "cell_type": "code",
   "source": "gff_df[(gff_df['seqid'] == \"NW_012236532.1\") & (gff_df['type'] == 'exon') & (gff_df['strand'] == '+')]",
   "id": "7575c0d23e395446",
   "outputs": [
    {
     "data": {
      "text/plain": [
       "                seqid  source  type    start      end score strand phase  \\\n",
       "91938  NW_012236532.1  RefSeq  exon    10542    11073     .      +     .   \n",
       "91939  NW_012236532.1  RefSeq  exon    11149    17518     .      +     .   \n",
       "91944  NW_012236532.1  RefSeq  exon    17798    18544     .      +     .   \n",
       "91945  NW_012236532.1  RefSeq  exon    18620    18665     .      +     .   \n",
       "91954  NW_012236532.1  RefSeq  exon    20411    20472     .      +     .   \n",
       "...               ...     ...   ...      ...      ...   ...    ...   ...   \n",
       "96143  NW_012236532.1  RefSeq  exon  1330710  1330847     .      +     .   \n",
       "96144  NW_012236532.1  RefSeq  exon  1330933  1332114     .      +     .   \n",
       "96145  NW_012236532.1  RefSeq  exon  1332541  1332918     .      +     .   \n",
       "96146  NW_012236532.1  RefSeq  exon  1332994  1337180     .      +     .   \n",
       "96154  NW_012236532.1  RefSeq  exon  1337347  1338786     .      +     .   \n",
       "\n",
       "                                              attributes  \n",
       "91938  ID=exon-XM_012904211.1-1;Parent=rna-XM_0129042...  \n",
       "91939  ID=exon-XM_012904211.1-2;Parent=rna-XM_0129042...  \n",
       "91944  ID=exon-XM_012904212.1-1;Parent=rna-XM_0129042...  \n",
       "91945  ID=exon-XM_012904212.1-2;Parent=rna-XM_0129042...  \n",
       "91954  ID=exon-XM_012904214.1-1;Parent=rna-XM_0129042...  \n",
       "...                                                  ...  \n",
       "96143  ID=exon-XM_012904771.1-2;Parent=rna-XM_0129047...  \n",
       "96144  ID=exon-XM_012904771.1-3;Parent=rna-XM_0129047...  \n",
       "96145  ID=exon-XM_012904771.1-4;Parent=rna-XM_0129047...  \n",
       "96146  ID=exon-XM_012904771.1-5;Parent=rna-XM_0129047...  \n",
       "96154  ID=exon-XM_012904772.1-1;Parent=rna-XM_0129047...  \n",
       "\n",
       "[749 rows x 9 columns]"
      ],
      "text/html": [
       "<div>\n",
       "<style scoped>\n",
       "    .dataframe tbody tr th:only-of-type {\n",
       "        vertical-align: middle;\n",
       "    }\n",
       "\n",
       "    .dataframe tbody tr th {\n",
       "        vertical-align: top;\n",
       "    }\n",
       "\n",
       "    .dataframe thead th {\n",
       "        text-align: right;\n",
       "    }\n",
       "</style>\n",
       "<table border=\"1\" class=\"dataframe\">\n",
       "  <thead>\n",
       "    <tr style=\"text-align: right;\">\n",
       "      <th></th>\n",
       "      <th>seqid</th>\n",
       "      <th>source</th>\n",
       "      <th>type</th>\n",
       "      <th>start</th>\n",
       "      <th>end</th>\n",
       "      <th>score</th>\n",
       "      <th>strand</th>\n",
       "      <th>phase</th>\n",
       "      <th>attributes</th>\n",
       "    </tr>\n",
       "  </thead>\n",
       "  <tbody>\n",
       "    <tr>\n",
       "      <th>91938</th>\n",
       "      <td>NW_012236532.1</td>\n",
       "      <td>RefSeq</td>\n",
       "      <td>exon</td>\n",
       "      <td>10542</td>\n",
       "      <td>11073</td>\n",
       "      <td>.</td>\n",
       "      <td>+</td>\n",
       "      <td>.</td>\n",
       "      <td>ID=exon-XM_012904211.1-1;Parent=rna-XM_0129042...</td>\n",
       "    </tr>\n",
       "    <tr>\n",
       "      <th>91939</th>\n",
       "      <td>NW_012236532.1</td>\n",
       "      <td>RefSeq</td>\n",
       "      <td>exon</td>\n",
       "      <td>11149</td>\n",
       "      <td>17518</td>\n",
       "      <td>.</td>\n",
       "      <td>+</td>\n",
       "      <td>.</td>\n",
       "      <td>ID=exon-XM_012904211.1-2;Parent=rna-XM_0129042...</td>\n",
       "    </tr>\n",
       "    <tr>\n",
       "      <th>91944</th>\n",
       "      <td>NW_012236532.1</td>\n",
       "      <td>RefSeq</td>\n",
       "      <td>exon</td>\n",
       "      <td>17798</td>\n",
       "      <td>18544</td>\n",
       "      <td>.</td>\n",
       "      <td>+</td>\n",
       "      <td>.</td>\n",
       "      <td>ID=exon-XM_012904212.1-1;Parent=rna-XM_0129042...</td>\n",
       "    </tr>\n",
       "    <tr>\n",
       "      <th>91945</th>\n",
       "      <td>NW_012236532.1</td>\n",
       "      <td>RefSeq</td>\n",
       "      <td>exon</td>\n",
       "      <td>18620</td>\n",
       "      <td>18665</td>\n",
       "      <td>.</td>\n",
       "      <td>+</td>\n",
       "      <td>.</td>\n",
       "      <td>ID=exon-XM_012904212.1-2;Parent=rna-XM_0129042...</td>\n",
       "    </tr>\n",
       "    <tr>\n",
       "      <th>91954</th>\n",
       "      <td>NW_012236532.1</td>\n",
       "      <td>RefSeq</td>\n",
       "      <td>exon</td>\n",
       "      <td>20411</td>\n",
       "      <td>20472</td>\n",
       "      <td>.</td>\n",
       "      <td>+</td>\n",
       "      <td>.</td>\n",
       "      <td>ID=exon-XM_012904214.1-1;Parent=rna-XM_0129042...</td>\n",
       "    </tr>\n",
       "    <tr>\n",
       "      <th>...</th>\n",
       "      <td>...</td>\n",
       "      <td>...</td>\n",
       "      <td>...</td>\n",
       "      <td>...</td>\n",
       "      <td>...</td>\n",
       "      <td>...</td>\n",
       "      <td>...</td>\n",
       "      <td>...</td>\n",
       "      <td>...</td>\n",
       "    </tr>\n",
       "    <tr>\n",
       "      <th>96143</th>\n",
       "      <td>NW_012236532.1</td>\n",
       "      <td>RefSeq</td>\n",
       "      <td>exon</td>\n",
       "      <td>1330710</td>\n",
       "      <td>1330847</td>\n",
       "      <td>.</td>\n",
       "      <td>+</td>\n",
       "      <td>.</td>\n",
       "      <td>ID=exon-XM_012904771.1-2;Parent=rna-XM_0129047...</td>\n",
       "    </tr>\n",
       "    <tr>\n",
       "      <th>96144</th>\n",
       "      <td>NW_012236532.1</td>\n",
       "      <td>RefSeq</td>\n",
       "      <td>exon</td>\n",
       "      <td>1330933</td>\n",
       "      <td>1332114</td>\n",
       "      <td>.</td>\n",
       "      <td>+</td>\n",
       "      <td>.</td>\n",
       "      <td>ID=exon-XM_012904771.1-3;Parent=rna-XM_0129047...</td>\n",
       "    </tr>\n",
       "    <tr>\n",
       "      <th>96145</th>\n",
       "      <td>NW_012236532.1</td>\n",
       "      <td>RefSeq</td>\n",
       "      <td>exon</td>\n",
       "      <td>1332541</td>\n",
       "      <td>1332918</td>\n",
       "      <td>.</td>\n",
       "      <td>+</td>\n",
       "      <td>.</td>\n",
       "      <td>ID=exon-XM_012904771.1-4;Parent=rna-XM_0129047...</td>\n",
       "    </tr>\n",
       "    <tr>\n",
       "      <th>96146</th>\n",
       "      <td>NW_012236532.1</td>\n",
       "      <td>RefSeq</td>\n",
       "      <td>exon</td>\n",
       "      <td>1332994</td>\n",
       "      <td>1337180</td>\n",
       "      <td>.</td>\n",
       "      <td>+</td>\n",
       "      <td>.</td>\n",
       "      <td>ID=exon-XM_012904771.1-5;Parent=rna-XM_0129047...</td>\n",
       "    </tr>\n",
       "    <tr>\n",
       "      <th>96154</th>\n",
       "      <td>NW_012236532.1</td>\n",
       "      <td>RefSeq</td>\n",
       "      <td>exon</td>\n",
       "      <td>1337347</td>\n",
       "      <td>1338786</td>\n",
       "      <td>.</td>\n",
       "      <td>+</td>\n",
       "      <td>.</td>\n",
       "      <td>ID=exon-XM_012904772.1-1;Parent=rna-XM_0129047...</td>\n",
       "    </tr>\n",
       "  </tbody>\n",
       "</table>\n",
       "<p>749 rows × 9 columns</p>\n",
       "</div>"
      ]
     },
     "execution_count": 7,
     "metadata": {},
     "output_type": "execute_result"
    }
   ],
   "execution_count": 7
  },
  {
   "metadata": {
    "ExecuteTime": {
     "end_time": "2024-06-16T16:46:18.960903Z",
     "start_time": "2024-06-16T16:46:18.954165Z"
    }
   },
   "cell_type": "code",
   "source": "zdna_list = parse_zdna_file(zdna_file_path)",
   "id": "4a879508150561e2",
   "outputs": [],
   "execution_count": 8
  },
  {
   "metadata": {
    "ExecuteTime": {
     "end_time": "2024-06-16T16:53:11.629142Z",
     "start_time": "2024-06-16T16:46:21.942464Z"
    }
   },
   "cell_type": "code",
   "source": [
    "zdna_counts = categorize_zdna(zdna_list, gff_df)\n",
    "print(zdna_counts)"
   ],
   "id": "8590a3838ba03dae",
   "outputs": [
    {
     "name": "stderr",
     "output_type": "stream",
     "text": [
      "100%|██████████| 5799/5799 [06:49<00:00, 14.15it/s]"
     ]
    },
    {
     "name": "stdout",
     "output_type": "stream",
     "text": [
      "{'exon': 2487, 'intron': 102, 'promoter': 224, 'downstream': 94, 'intergenic': 2892}\n"
     ]
    },
    {
     "name": "stderr",
     "output_type": "stream",
     "text": [
      "\n"
     ]
    }
   ],
   "execution_count": 9
  },
  {
   "metadata": {
    "ExecuteTime": {
     "end_time": "2024-06-16T16:56:24.241530Z",
     "start_time": "2024-06-16T16:56:24.238658Z"
    }
   },
   "cell_type": "code",
   "source": "len(zdna_list)",
   "id": "d20497fe39469e76",
   "outputs": [
    {
     "data": {
      "text/plain": [
       "5799"
      ]
     },
     "execution_count": 10,
     "metadata": {},
     "output_type": "execute_result"
    }
   ],
   "execution_count": 10
  },
  {
   "metadata": {},
   "cell_type": "markdown",
   "source": "### Count using zhunt data",
   "id": "575e307035305149"
  },
  {
   "metadata": {
    "ExecuteTime": {
     "end_time": "2024-06-16T18:13:32.662834Z",
     "start_time": "2024-06-16T18:13:32.355818Z"
    }
   },
   "cell_type": "code",
   "source": [
    "zhunt=pd.read_csv(\"zhunt.bed\", sep=\"\\t\", names=['Scaffold', 'Start', 'End', 'Score'])\n",
    "len(zhunt)"
   ],
   "id": "987591aed63b7fe",
   "outputs": [
    {
     "data": {
      "text/plain": [
       "4328"
      ]
     },
     "execution_count": 24,
     "metadata": {},
     "output_type": "execute_result"
    }
   ],
   "execution_count": 24
  },
  {
   "metadata": {
    "ExecuteTime": {
     "end_time": "2024-06-16T18:13:37.313182Z",
     "start_time": "2024-06-16T18:13:37.306831Z"
    }
   },
   "cell_type": "code",
   "source": "zhunt",
   "id": "b941cd15c5838a44",
   "outputs": [
    {
     "data": {
      "text/plain": [
       "            Scaffold    Start      End     Score\n",
       "0     NW_012236428.1      731      761  1237.247\n",
       "1     NW_012236428.1     1359     1382  1096.390\n",
       "2     NW_012236431.1     1627     1664  1440.850\n",
       "3     NW_012236432.1       44       72  2539.351\n",
       "4     NW_012236435.1     2125     2149  1030.985\n",
       "...              ...      ...      ...       ...\n",
       "4323  NW_012236532.1  1257074  1257094  1016.263\n",
       "4324  NW_012236532.1  1258304  1258328  2099.467\n",
       "4325  NW_012236532.1  1282423  1282443  1041.981\n",
       "4326  NW_012236532.1  1284649  1284669  1232.502\n",
       "4327  NW_012236532.1  1300054  1300074  1080.655\n",
       "\n",
       "[4328 rows x 4 columns]"
      ],
      "text/html": [
       "<div>\n",
       "<style scoped>\n",
       "    .dataframe tbody tr th:only-of-type {\n",
       "        vertical-align: middle;\n",
       "    }\n",
       "\n",
       "    .dataframe tbody tr th {\n",
       "        vertical-align: top;\n",
       "    }\n",
       "\n",
       "    .dataframe thead th {\n",
       "        text-align: right;\n",
       "    }\n",
       "</style>\n",
       "<table border=\"1\" class=\"dataframe\">\n",
       "  <thead>\n",
       "    <tr style=\"text-align: right;\">\n",
       "      <th></th>\n",
       "      <th>Scaffold</th>\n",
       "      <th>Start</th>\n",
       "      <th>End</th>\n",
       "      <th>Score</th>\n",
       "    </tr>\n",
       "  </thead>\n",
       "  <tbody>\n",
       "    <tr>\n",
       "      <th>0</th>\n",
       "      <td>NW_012236428.1</td>\n",
       "      <td>731</td>\n",
       "      <td>761</td>\n",
       "      <td>1237.247</td>\n",
       "    </tr>\n",
       "    <tr>\n",
       "      <th>1</th>\n",
       "      <td>NW_012236428.1</td>\n",
       "      <td>1359</td>\n",
       "      <td>1382</td>\n",
       "      <td>1096.390</td>\n",
       "    </tr>\n",
       "    <tr>\n",
       "      <th>2</th>\n",
       "      <td>NW_012236431.1</td>\n",
       "      <td>1627</td>\n",
       "      <td>1664</td>\n",
       "      <td>1440.850</td>\n",
       "    </tr>\n",
       "    <tr>\n",
       "      <th>3</th>\n",
       "      <td>NW_012236432.1</td>\n",
       "      <td>44</td>\n",
       "      <td>72</td>\n",
       "      <td>2539.351</td>\n",
       "    </tr>\n",
       "    <tr>\n",
       "      <th>4</th>\n",
       "      <td>NW_012236435.1</td>\n",
       "      <td>2125</td>\n",
       "      <td>2149</td>\n",
       "      <td>1030.985</td>\n",
       "    </tr>\n",
       "    <tr>\n",
       "      <th>...</th>\n",
       "      <td>...</td>\n",
       "      <td>...</td>\n",
       "      <td>...</td>\n",
       "      <td>...</td>\n",
       "    </tr>\n",
       "    <tr>\n",
       "      <th>4323</th>\n",
       "      <td>NW_012236532.1</td>\n",
       "      <td>1257074</td>\n",
       "      <td>1257094</td>\n",
       "      <td>1016.263</td>\n",
       "    </tr>\n",
       "    <tr>\n",
       "      <th>4324</th>\n",
       "      <td>NW_012236532.1</td>\n",
       "      <td>1258304</td>\n",
       "      <td>1258328</td>\n",
       "      <td>2099.467</td>\n",
       "    </tr>\n",
       "    <tr>\n",
       "      <th>4325</th>\n",
       "      <td>NW_012236532.1</td>\n",
       "      <td>1282423</td>\n",
       "      <td>1282443</td>\n",
       "      <td>1041.981</td>\n",
       "    </tr>\n",
       "    <tr>\n",
       "      <th>4326</th>\n",
       "      <td>NW_012236532.1</td>\n",
       "      <td>1284649</td>\n",
       "      <td>1284669</td>\n",
       "      <td>1232.502</td>\n",
       "    </tr>\n",
       "    <tr>\n",
       "      <th>4327</th>\n",
       "      <td>NW_012236532.1</td>\n",
       "      <td>1300054</td>\n",
       "      <td>1300074</td>\n",
       "      <td>1080.655</td>\n",
       "    </tr>\n",
       "  </tbody>\n",
       "</table>\n",
       "<p>4328 rows × 4 columns</p>\n",
       "</div>"
      ]
     },
     "execution_count": 25,
     "metadata": {},
     "output_type": "execute_result"
    }
   ],
   "execution_count": 25
  },
  {
   "metadata": {
    "ExecuteTime": {
     "end_time": "2024-06-16T18:22:11.549819Z",
     "start_time": "2024-06-16T18:16:54.371821Z"
    }
   },
   "cell_type": "code",
   "source": [
    "# convert to list of tuples\n",
    "zhunt_zdna_regions = [(scaffold, (start, end)) for scaffold, start, end, _ in zhunt.values]\n",
    "zdna_counts = categorize_zdna(zhunt_zdna_regions, gff_df)"
   ],
   "id": "9aace37b31dbf02e",
   "outputs": [
    {
     "name": "stderr",
     "output_type": "stream",
     "text": [
      "100%|██████████| 4328/4328 [05:17<00:00, 13.65it/s]\n"
     ]
    }
   ],
   "execution_count": 26
  },
  {
   "metadata": {
    "ExecuteTime": {
     "end_time": "2024-06-16T18:37:36.407924Z",
     "start_time": "2024-06-16T18:37:36.405642Z"
    }
   },
   "cell_type": "code",
   "source": "print(zdna_counts)",
   "id": "397a60275845a2d3",
   "outputs": [
    {
     "name": "stdout",
     "output_type": "stream",
     "text": [
      "{'exon': 1196, 'intron': 153, 'promoter': 773, 'downstream': 115, 'intergenic': 2091}\n"
     ]
    }
   ],
   "execution_count": 27
  },
  {
   "metadata": {
    "ExecuteTime": {
     "end_time": "2024-06-16T17:16:45.024862Z",
     "start_time": "2024-06-16T17:16:45.022536Z"
    }
   },
   "cell_type": "code",
   "source": [
    "# count quadruplexes\n",
    "import re\n",
    "pattern=\"(?:G{3,}[ATGC]{1,7}){3,}G{3,}\"\n",
    "pattern_C=\"(?:C{3,}[ATGC]{1,7}){3,}C{3,}\""
   ],
   "id": "9ca1d10ea250997e",
   "outputs": [],
   "execution_count": 19
  },
  {
   "metadata": {},
   "cell_type": "code",
   "outputs": [],
   "execution_count": null,
   "source": [
    "# open fasta file\n",
    "with open(\"../ncbi_dataset/data/GCF_000787575.1/GCF_000787575.1_Asub_2.0_genomic.fna\") as file:\n",
    "    sequence = file.read()\n",
    "\n",
    "# remove lines starting with '>'\n",
    "sequence = ''.join(sequence.split('\\n')[1:])\n"
   ],
   "id": "1f487eb7eb9ee280"
  },
  {
   "metadata": {
    "ExecuteTime": {
     "end_time": "2024-06-16T17:16:45.723255Z",
     "start_time": "2024-06-16T17:16:45.714286Z"
    }
   },
   "cell_type": "code",
   "source": [
    "PQS=[[m.start(),m.end(),m.group(0)] for m in re.finditer(pattern,sequence,re.IGNORECASE)] #re.IGNORECASE отвечает за игнорирования отличий между заглавными и строчными буквами\n",
    "len(PQS) #выводим число найденных квадруплексов"
   ],
   "id": "54143f25f6f51fe3",
   "outputs": [
    {
     "ename": "NameError",
     "evalue": "name 'sequence' is not defined",
     "output_type": "error",
     "traceback": [
      "\u001B[0;31m---------------------------------------------------------------------------\u001B[0m",
      "\u001B[0;31mNameError\u001B[0m                                 Traceback (most recent call last)",
      "Cell \u001B[0;32mIn[20], line 1\u001B[0m\n\u001B[0;32m----> 1\u001B[0m PQS\u001B[38;5;241m=\u001B[39m[[m\u001B[38;5;241m.\u001B[39mstart(),m\u001B[38;5;241m.\u001B[39mend(),m\u001B[38;5;241m.\u001B[39mgroup(\u001B[38;5;241m0\u001B[39m)] \u001B[38;5;28;01mfor\u001B[39;00m m \u001B[38;5;129;01min\u001B[39;00m re\u001B[38;5;241m.\u001B[39mfinditer(pattern,\u001B[43msequence\u001B[49m,re\u001B[38;5;241m.\u001B[39mIGNORECASE)] \u001B[38;5;66;03m#re.IGNORECASE отвечает за игнорирования отличий между заглавными и строчными буквами\u001B[39;00m\n\u001B[1;32m      2\u001B[0m \u001B[38;5;28mlen\u001B[39m(PQS) \u001B[38;5;66;03m#выводим число найденных квадруплексов\u001B[39;00m\n",
      "\u001B[0;31mNameError\u001B[0m: name 'sequence' is not defined"
     ]
    }
   ],
   "execution_count": 20
  },
  {
   "metadata": {
    "ExecuteTime": {
     "end_time": "2024-06-16T17:16:46.283503Z",
     "start_time": "2024-06-16T17:16:46.274120Z"
    }
   },
   "cell_type": "code",
   "source": [
    "PQS_minus=[[m.start(),m.end(),m.group(0)] for m in re.finditer(pattern_C,sequence,re.IGNORECASE)] #re.IGNORECASE отвечает за игнорирования отличий между заглавными и строчными буквами\n",
    "len(PQS_minus) #выводим число найденных квадруплексов"
   ],
   "id": "10b5bcc98e33ab5c",
   "outputs": [
    {
     "ename": "NameError",
     "evalue": "name 'sequence' is not defined",
     "output_type": "error",
     "traceback": [
      "\u001B[0;31m---------------------------------------------------------------------------\u001B[0m",
      "\u001B[0;31mNameError\u001B[0m                                 Traceback (most recent call last)",
      "Cell \u001B[0;32mIn[21], line 1\u001B[0m\n\u001B[0;32m----> 1\u001B[0m PQS_minus\u001B[38;5;241m=\u001B[39m[[m\u001B[38;5;241m.\u001B[39mstart(),m\u001B[38;5;241m.\u001B[39mend(),m\u001B[38;5;241m.\u001B[39mgroup(\u001B[38;5;241m0\u001B[39m)] \u001B[38;5;28;01mfor\u001B[39;00m m \u001B[38;5;129;01min\u001B[39;00m re\u001B[38;5;241m.\u001B[39mfinditer(pattern_C,\u001B[43msequence\u001B[49m,re\u001B[38;5;241m.\u001B[39mIGNORECASE)] \u001B[38;5;66;03m#re.IGNORECASE отвечает за игнорирования отличий между заглавными и строчными буквами\u001B[39;00m\n\u001B[1;32m      2\u001B[0m \u001B[38;5;28mlen\u001B[39m(PQS_minus) \u001B[38;5;66;03m#выводим число найденных квадруплексов\u001B[39;00m\n",
      "\u001B[0;31mNameError\u001B[0m: name 'sequence' is not defined"
     ]
    }
   ],
   "execution_count": 21
  },
  {
   "metadata": {},
   "cell_type": "code",
   "outputs": [],
   "execution_count": null,
   "source": [
    "# categorize and count quadruplexes on both strands\n",
    "def categorize_pqs(PQS, PQS_minus, gff_df) -> dict:\n",
    "    pqs_counts = {\n",
    "        'exon': 0,\n",
    "        'intron': 0,\n",
    "        'promoter': 0,\n",
    "        'downstream': 0,\n",
    "        'intergenic': 0\n",
    "    }\n",
    "\n",
    "    # count PQS on the plus strand\n",
    "    for start, end, _ in PQS:\n",
    "        categorized = False\n",
    "\n",
    "        # Check if PQS is in exon on plus strand\n",
    "        exons = gff_df[(gff_df['type'] == 'exon') & (gff_df['strand'] == '+')]\n",
    "        if any((exons['start'] <= start) & (exons['end'] >= end)):\n",
    "            pqs_counts['exon'] += 1\n",
    "            categorized = True\n",
    "            \n",
    "        # Check if PQS is in intron on plus strand\n",
    "        genes = gff_df[(gff_df['type'] == 'gene') & (gff_df['strand'] == '+')]\n",
    "        if any((genes['start'] <= start) & (genes['end'] >= end)):\n",
    "            pqs_counts['intron'] += 1\n",
    "            categorized = True\n",
    "            \n",
    "        # Check if PQS is in promoter region on plus strand\n",
    "        if any((genes['start'] - 1000 <= start) & (genes['start'] >= start)):\n",
    "            pqs_counts['promoter'] += 1\n",
    "            categorized = True\n",
    "            \n",
    "        # Check if PQS is in downstream region on plus strand\n",
    "        if any((genes['end'] <= end) & (genes['end'] + 200 >= end)):\n",
    "            pqs_counts['downstream'] += 1\n",
    "            categorized = True\n",
    "            \n",
    "        # If not in any other category, it's intergenic\n",
    "        if not categorized:\n",
    "            pqs_counts['intergenic'] += 1\n",
    "            \n",
    "    # count PQS on the minus strand\n",
    "    for start, end, _ in PQS_minus:\n",
    "        categorized = False\n",
    "\n",
    "        # Check if PQS is in exon on minus strand\n",
    "        exons = gff_df[(gff_df['type'] == 'exon') & (gff_df['strand'] == '-')]\n",
    "        if any((exons['start'] <= start) & (exons['end'] >= end)):\n",
    "            pqs_counts['exon'] += 1\n",
    "            categorized = True\n",
    "            \n",
    "        # Check if PQS is in intron on minus strand\n",
    "        genes = gff_df[(gff_df['type'] == 'gene') & (gff_df['strand'] == '-')]\n",
    "        if any((genes['start'] <= start) & (genes['end'] >= end)):\n",
    "            pqs_counts['intron'] += 1\n",
    "            categorized = True\n",
    "            \n",
    "        # Check if PQS is in promoter region on minus strand\n",
    "        if any((genes['start'] - 1000 <= start) & (genes['start'] >= start)):\n",
    "            pqs_counts['promoter'] += 1\n",
    "            categorized = True\n",
    "            \n",
    "        # Check if PQS is in downstream region on minus strand\n",
    "        if any((genes['end'] <= end) & (genes['end'] + 200 >= end)):\n",
    "            pqs_counts['downstream'] += 1\n",
    "            categorized = True\n",
    "            \n",
    "        # If not in any other category, it's intergenic\n",
    "        if not categorized:\n",
    "            pqs_counts['intergenic'] += 1\n",
    "            \n",
    "    return pqs_counts"
   ],
   "id": "6775926a8d47aba7"
  }
 ],
 "metadata": {
  "kernelspec": {
   "display_name": "Python 3",
   "language": "python",
   "name": "python3"
  },
  "language_info": {
   "codemirror_mode": {
    "name": "ipython",
    "version": 2
   },
   "file_extension": ".py",
   "mimetype": "text/x-python",
   "name": "python",
   "nbconvert_exporter": "python",
   "pygments_lexer": "ipython2",
   "version": "2.7.6"
  }
 },
 "nbformat": 4,
 "nbformat_minor": 5
}
